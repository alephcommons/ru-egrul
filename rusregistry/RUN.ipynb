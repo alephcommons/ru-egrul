{
 "cells": [
  {
   "cell_type": "code",
   "execution_count": 1,
   "id": "b1ce405d-654d-4db5-b4a4-999131d54c19",
   "metadata": {},
   "outputs": [],
   "source": [
    "%load_ext autoreload\n",
    "%autoreload 2"
   ]
  },
  {
   "cell_type": "code",
   "execution_count": 2,
   "id": "3aed5726-7284-4813-a596-f3e132e2b235",
   "metadata": {},
   "outputs": [],
   "source": [
    "import pandas as pd\n",
    "from tqdm import tqdm\n",
    "import glob\n",
    "\n",
    "from entities.mng import ManagingCompany\n",
    "from entities.founder import Founder\n",
    "from entities.succession import Succession\n",
    "from entities.orgchief import OrgChief\n",
    "\n",
    "from csv_processing.data import load_data_sources, load_ref_tables\n",
    "\n",
    "import csv_processing.utils as utils\n",
    "\n",
    "from tqdm import tqdm\n",
    "\n",
    "import gzip\n",
    "import json "
   ]
  },
  {
   "cell_type": "code",
   "execution_count": 3,
   "id": "a3b12f69-845b-42a9-bf82-23f13fe3ea2d",
   "metadata": {},
   "outputs": [],
   "source": [
    "# Use Prefix '_2022-04' to load only a small subset of data (<1%)\n",
    "# Dont use Any prefix if you want full data. (May take a long time to load)\n",
    "FOLDER = '../data1/'\n",
    "PREFIX = \"_2022-04\""
   ]
  },
  {
   "cell_type": "code",
   "execution_count": 4,
   "id": "284f4c7c-09e3-4c4e-983c-29d14a8f94b7",
   "metadata": {},
   "outputs": [],
   "source": [
    "SOURCE_DICT = load_data_sources(FOLDER, PREFIX)\n",
    "REF_DICT = load_ref_tables(FOLDER)"
   ]
  },
  {
   "cell_type": "code",
   "execution_count": 6,
   "id": "58c70adc-c227-4c0a-aafc-e8ac0b41fe47",
   "metadata": {},
   "outputs": [],
   "source": [
    "companies = utils.preprocess_company(SOURCE_DICT['companies'])\n",
    "persons = utils.preprocess_person(SOURCE_DICT['persons'])"
   ]
  },
  {
   "cell_type": "code",
   "execution_count": 7,
   "id": "316804d6-71f4-48ff-a4a8-fb9fec3d23a5",
   "metadata": {},
   "outputs": [],
   "source": [
    "mng = utils.preprocess_mng(SOURCE_DICT['mng'])\n",
    "founder = utils.preprocess_founder(SOURCE_DICT['founder'])\n",
    "org_chief = utils.preprocess_org_chief(SOURCE_DICT['org_chief'])\n",
    "predecessor = utils.preprocess_sucession(SOURCE_DICT['predecessor'])"
   ]
  },
  {
   "cell_type": "code",
   "execution_count": 8,
   "id": "0075cc65-7cc1-4ade-849f-7eed9c22d87c",
   "metadata": {},
   "outputs": [],
   "source": [
    "\n",
    "def generate_enitites(df, entity_func, **kwargs):\n",
    "    entities = []\n",
    "    for i, row in tqdm(df.iterrows(), total=len(df)):\n",
    "        entities += entity_func(row, **kwargs)\n",
    "    return entities"
   ]
  },
  {
   "cell_type": "code",
   "execution_count": 9,
   "id": "af6e225e-9d9e-4e95-b5e5-875c8c857c17",
   "metadata": {},
   "outputs": [
    {
     "name": "stderr",
     "output_type": "stream",
     "text": [
      "100%|███████████████████████████████████████████████████████████████████████████| 19435/19435 [00:31<00:00, 621.13it/s]\n"
     ]
    }
   ],
   "source": [
    "orgs = generate_enitites(companies, utils.create_org)"
   ]
  },
  {
   "cell_type": "code",
   "execution_count": 10,
   "id": "d7efb7cb-db88-4065-890c-8b9a1fdebaf7",
   "metadata": {},
   "outputs": [
    {
     "name": "stderr",
     "output_type": "stream",
     "text": [
      "100%|██████████████████████████████████████████████████████████████████████████| 24529/24529 [00:14<00:00, 1651.83it/s]\n"
     ]
    }
   ],
   "source": [
    "people = generate_enitites(persons, utils.create_person)"
   ]
  },
  {
   "cell_type": "code",
   "execution_count": 11,
   "id": "b2ef73a1-987d-4fe8-b8c5-7f723cf532ec",
   "metadata": {},
   "outputs": [
    {
     "name": "stderr",
     "output_type": "stream",
     "text": [
      "100%|██████████████████████████████████████████████████████████████████████████████| 179/179 [00:00<00:00, 5096.81it/s]\n"
     ]
    }
   ],
   "source": [
    "mngrs = generate_enitites(mng, utils.create_connection, connType=ManagingCompany)"
   ]
  },
  {
   "cell_type": "code",
   "execution_count": 12,
   "id": "516868f0-3e88-402a-9e94-268db6a29a6b",
   "metadata": {},
   "outputs": [
    {
     "name": "stderr",
     "output_type": "stream",
     "text": [
      "100%|██████████████████████████████████████████████████████████████████████████| 19389/19389 [00:02<00:00, 7110.51it/s]\n"
     ]
    }
   ],
   "source": [
    "chiefs = generate_enitites(org_chief, utils.create_connection, connType=OrgChief)"
   ]
  },
  {
   "cell_type": "code",
   "execution_count": 13,
   "id": "730b69db-6420-4b79-883e-e1fb94f8221d",
   "metadata": {},
   "outputs": [
    {
     "name": "stderr",
     "output_type": "stream",
     "text": [
      "100%|██████████████████████████████████████████████████████████████████████████| 27605/27605 [00:04<00:00, 6406.30it/s]\n"
     ]
    }
   ],
   "source": [
    "founders = generate_enitites(founder, utils.create_connection, connType=Founder)"
   ]
  },
  {
   "cell_type": "code",
   "execution_count": 14,
   "id": "0fb842cb-200a-476c-b87d-beff696f232a",
   "metadata": {},
   "outputs": [
    {
     "name": "stderr",
     "output_type": "stream",
     "text": [
      "100%|██████████████████████████████████████████████████████████████████████████████████| 5/5 [00:00<00:00, 3961.38it/s]\n"
     ]
    }
   ],
   "source": [
    "successions = generate_enitites(predecessor, utils.create_connection, connType=Succession)"
   ]
  },
  {
   "cell_type": "code",
   "execution_count": 25,
   "id": "e74efc76-ec0d-4509-92a9-58ffcf0f4929",
   "metadata": {},
   "outputs": [],
   "source": [
    "data = orgs + people + mngrs + chiefs + founders + successions"
   ]
  },
  {
   "cell_type": "code",
   "execution_count": 26,
   "id": "07112a24-2435-48ae-834d-6552700a1177",
   "metadata": {},
   "outputs": [],
   "source": [
    "items = [i.to_dict() for i in data]"
   ]
  },
  {
   "cell_type": "code",
   "execution_count": 30,
   "id": "8a3b9512-ef27-411a-a333-d3fb6598bac4",
   "metadata": {},
   "outputs": [],
   "source": [
    "jsonfilename = 'ru-egrul-small.json.gzip'"
   ]
  },
  {
   "cell_type": "code",
   "execution_count": 31,
   "id": "0c668dad-035b-4e98-b6bc-275ac171cca4",
   "metadata": {},
   "outputs": [],
   "source": [
    "# WRITE\n",
    "json_str = json.dumps(items) + \"\\n\"               \n",
    "json_bytes = json_str.encode('utf-8')            \n",
    "\n",
    "with gzip.open(jsonfilename, 'w') as fout:    \n",
    "    fout.write(json_bytes)     "
   ]
  },
  {
   "cell_type": "code",
   "execution_count": 32,
   "id": "cebbdb35-49ec-4cb7-b80b-d990b538ff0e",
   "metadata": {},
   "outputs": [],
   "source": [
    "# READ\n",
    "with gzip.open(jsonfilename, 'r') as fin:        \n",
    "    json_bytes = fin.read()                      \n",
    "\n",
    "json_str = json_bytes.decode('utf-8')            \n",
    "data = json.loads(json_str)                     "
   ]
  }
 ],
 "metadata": {
  "kernelspec": {
   "display_name": "Python 3 (ipykernel)",
   "language": "python",
   "name": "python3"
  },
  "language_info": {
   "codemirror_mode": {
    "name": "ipython",
    "version": 3
   },
   "file_extension": ".py",
   "mimetype": "text/x-python",
   "name": "python",
   "nbconvert_exporter": "python",
   "pygments_lexer": "ipython3",
   "version": "3.10.4"
  }
 },
 "nbformat": 4,
 "nbformat_minor": 5
}
