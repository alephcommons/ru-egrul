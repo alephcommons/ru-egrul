{
 "cells": [
  {
   "cell_type": "code",
   "execution_count": 1,
   "id": "62bdc505-f120-47fb-9756-b63f3fec3cae",
   "metadata": {},
   "outputs": [],
   "source": [
    "%load_ext autoreload\n",
    "%autoreload 2"
   ]
  },
  {
   "cell_type": "code",
   "execution_count": 2,
   "id": "b95465d4-a4ba-4da7-85df-7f7970878cb1",
   "metadata": {},
   "outputs": [],
   "source": [
    "import pandas as pd\n",
    "from tqdm import tqdm\n",
    "import glob\n",
    "\n",
    "from entities.organisation import Organisation\n",
    "from entities.address import Address\n",
    "\n",
    "from entities.individual_enterpreneur import IndividualEnterpereneur\n",
    "from entities.person import Person\n",
    "\n",
    "from entities.mng import ManagingCompany\n",
    "from entities.founder import Founder\n",
    "from entities.succession import Succession\n",
    "from entities.orgchief import OrgChief\n",
    "\n",
    "from utils.column_mapping import COMPANY_MAPPING, PERSONS_MAPPING, IE_MAPPING, LOCATION_MAPPING\n",
    "\n",
    "from csv_processing.utils import bytes_to_date, fix_inn\n",
    "from csv_processing.data import load_data_sources, load_ref_tables"
   ]
  },
  {
   "cell_type": "code",
   "execution_count": 3,
   "id": "641eea4e-73b8-456b-8d59-9599a2da9ef8",
   "metadata": {},
   "outputs": [],
   "source": [
    "# Use Prefix '_2022-04' to load only a small subset of data (<1%)\n",
    "\n",
    "FOLDER = '../data/'\n",
    "PREFIX = '_2022-04'"
   ]
  },
  {
   "cell_type": "code",
   "execution_count": 4,
   "id": "c3e97dc6-2a1e-45d6-b2f0-18019c1ba7b5",
   "metadata": {},
   "outputs": [],
   "source": [
    "SOURCE_DICT = load_data_sources(FOLDER)"
   ]
  },
  {
   "cell_type": "code",
   "execution_count": 5,
   "id": "ddc16e53-23f9-4219-8af4-4de52e9915b5",
   "metadata": {},
   "outputs": [],
   "source": [
    "REF_DICT = load_ref_tables(FOLDER)"
   ]
  },
  {
   "cell_type": "code",
   "execution_count": 6,
   "id": "3f25c6ae-56f4-496a-a766-b13b3a711a79",
   "metadata": {},
   "outputs": [],
   "source": [
    "# Just for easy access\n",
    "\n",
    "mng = SOURCE_DICT['mng']\n",
    "founder = SOURCE_DICT['founder']\n",
    "org_chief = SOURCE_DICT['org_chief']\n",
    "predecessor = SOURCE_DICT['predecessor']\n",
    "companies = SOURCE_DICT['companies']\n",
    "persons = SOURCE_DICT['persons']"
   ]
  },
  {
   "cell_type": "code",
   "execution_count": 7,
   "id": "38cb1be3-194c-4fb0-bbba-c50ba2102dcf",
   "metadata": {},
   "outputs": [],
   "source": [
    "# Keep only latest updated value\n",
    "companies = companies.sort_values('max_num', ascending=True).drop_duplicates('ogrn', keep='last')\n",
    "persons = persons.sort_values('updated_at_num', ascending=True).drop_duplicates('inn', keep='last')"
   ]
  },
  {
   "cell_type": "code",
   "execution_count": 8,
   "id": "dcd771a5-c8b5-4be5-ac47-7d9f27e6830d",
   "metadata": {},
   "outputs": [
    {
     "data": {
      "text/html": [
       "<div>\n",
       "<style scoped>\n",
       "    .dataframe tbody tr th:only-of-type {\n",
       "        vertical-align: middle;\n",
       "    }\n",
       "\n",
       "    .dataframe tbody tr th {\n",
       "        vertical-align: top;\n",
       "    }\n",
       "\n",
       "    .dataframe thead th {\n",
       "        text-align: right;\n",
       "    }\n",
       "</style>\n",
       "<table border=\"1\" class=\"dataframe\">\n",
       "  <thead>\n",
       "    <tr style=\"text-align: right;\">\n",
       "      <th></th>\n",
       "      <th>ogrn</th>\n",
       "      <th>reg_date</th>\n",
       "      <th>end_date</th>\n",
       "      <th>opf_id</th>\n",
       "      <th>okved_id</th>\n",
       "      <th>inn</th>\n",
       "      <th>kpp</th>\n",
       "      <th>full_name</th>\n",
       "      <th>email</th>\n",
       "      <th>pfr</th>\n",
       "      <th>fss</th>\n",
       "      <th>capital</th>\n",
       "      <th>jurisdiction</th>\n",
       "    </tr>\n",
       "  </thead>\n",
       "  <tbody>\n",
       "    <tr>\n",
       "      <th>2601</th>\n",
       "      <td>1032600320103</td>\n",
       "      <td>2003-01-05</td>\n",
       "      <td>0000-00-00</td>\n",
       "      <td>20107.0</td>\n",
       "      <td>47.1.0 Торговля розничная в неспециализированн...</td>\n",
       "      <td>2619008320</td>\n",
       "      <td>261901001</td>\n",
       "      <td>РАЙОННОЕ ПОТРЕБИТЕЛЬСКОЕ ОБЩЕСТВО</td>\n",
       "      <td>NaN</td>\n",
       "      <td>36019000110</td>\n",
       "      <td>261100054326041</td>\n",
       "      <td>0</td>\n",
       "      <td>russia</td>\n",
       "    </tr>\n",
       "    <tr>\n",
       "      <th>9092</th>\n",
       "      <td>1145749008404</td>\n",
       "      <td>2014-09-18</td>\n",
       "      <td>0000-00-00</td>\n",
       "      <td>12300.0</td>\n",
       "      <td>38.1.0 Сбор отходов</td>\n",
       "      <td>5753203739</td>\n",
       "      <td>572001001</td>\n",
       "      <td>ОБЩЕСТВО С ОГРАНИЧЕННОЙ ОТВЕТСТВЕННОСТЬЮ &amp;quot...</td>\n",
       "      <td>NaN</td>\n",
       "      <td>67022105738</td>\n",
       "      <td>570001967357001</td>\n",
       "      <td>16160000</td>\n",
       "      <td>russia</td>\n",
       "    </tr>\n",
       "    <tr>\n",
       "      <th>12719</th>\n",
       "      <td>1192651006041</td>\n",
       "      <td>2019-03-27</td>\n",
       "      <td>0000-00-00</td>\n",
       "      <td>12300.0</td>\n",
       "      <td>47.25.0 Торговля розничная напитками в специал...</td>\n",
       "      <td>2630050389</td>\n",
       "      <td>263001001</td>\n",
       "      <td>ОБЩЕСТВО С ОГРАНИЧЕННОЙ ОТВЕТСТВЕННОСТЬЮ &amp;quot...</td>\n",
       "      <td>NaN</td>\n",
       "      <td>36030111876</td>\n",
       "      <td>261900636026071</td>\n",
       "      <td>200000</td>\n",
       "      <td>russia</td>\n",
       "    </tr>\n",
       "    <tr>\n",
       "      <th>14791</th>\n",
       "      <td>1213700001020</td>\n",
       "      <td>2021-01-27</td>\n",
       "      <td>0000-00-00</td>\n",
       "      <td>12300.0</td>\n",
       "      <td>46.90.0 Торговля оптовая неспециализированная</td>\n",
       "      <td>3702254266</td>\n",
       "      <td>370201001</td>\n",
       "      <td>ОБЩЕСТВО С ОГРАНИЧЕННОЙ ОТВЕТСТВЕННОСТЬЮ &amp;quot...</td>\n",
       "      <td>BAZOV.SHURA@INBOX.RU</td>\n",
       "      <td>47024086717</td>\n",
       "      <td>370000461837001</td>\n",
       "      <td>10000</td>\n",
       "      <td>russia</td>\n",
       "    </tr>\n",
       "    <tr>\n",
       "      <th>11843</th>\n",
       "      <td>1182375081525</td>\n",
       "      <td>2018-09-27</td>\n",
       "      <td>0000-00-00</td>\n",
       "      <td>12300.0</td>\n",
       "      <td>49.41.0 Деятельность автомобильного грузового ...</td>\n",
       "      <td>2311276693</td>\n",
       "      <td>231101001</td>\n",
       "      <td>ОБЩЕСТВО С ОГРАНИЧЕННОЙ ОТВЕТСТВЕННОСТЬЮ &amp;quot...</td>\n",
       "      <td>NaN</td>\n",
       "      <td>33016133970</td>\n",
       "      <td>230103608823011</td>\n",
       "      <td>20000</td>\n",
       "      <td>russia</td>\n",
       "    </tr>\n",
       "  </tbody>\n",
       "</table>\n",
       "</div>"
      ],
      "text/plain": [
       "                ogrn    reg_date    end_date   opf_id  \\\n",
       "2601   1032600320103  2003-01-05  0000-00-00  20107.0   \n",
       "9092   1145749008404  2014-09-18  0000-00-00  12300.0   \n",
       "12719  1192651006041  2019-03-27  0000-00-00  12300.0   \n",
       "14791  1213700001020  2021-01-27  0000-00-00  12300.0   \n",
       "11843  1182375081525  2018-09-27  0000-00-00  12300.0   \n",
       "\n",
       "                                                okved_id         inn  \\\n",
       "2601   47.1.0 Торговля розничная в неспециализированн...  2619008320   \n",
       "9092                                 38.1.0 Сбор отходов  5753203739   \n",
       "12719  47.25.0 Торговля розничная напитками в специал...  2630050389   \n",
       "14791      46.90.0 Торговля оптовая неспециализированная  3702254266   \n",
       "11843  49.41.0 Деятельность автомобильного грузового ...  2311276693   \n",
       "\n",
       "             kpp                                          full_name  \\\n",
       "2601   261901001                  РАЙОННОЕ ПОТРЕБИТЕЛЬСКОЕ ОБЩЕСТВО   \n",
       "9092   572001001  ОБЩЕСТВО С ОГРАНИЧЕННОЙ ОТВЕТСТВЕННОСТЬЮ &quot...   \n",
       "12719  263001001  ОБЩЕСТВО С ОГРАНИЧЕННОЙ ОТВЕТСТВЕННОСТЬЮ &quot...   \n",
       "14791  370201001  ОБЩЕСТВО С ОГРАНИЧЕННОЙ ОТВЕТСТВЕННОСТЬЮ &quot...   \n",
       "11843  231101001  ОБЩЕСТВО С ОГРАНИЧЕННОЙ ОТВЕТСТВЕННОСТЬЮ &quot...   \n",
       "\n",
       "                      email          pfr              fss   capital  \\\n",
       "2601                    NaN  36019000110  261100054326041         0   \n",
       "9092                    NaN  67022105738  570001967357001  16160000   \n",
       "12719                   NaN  36030111876  261900636026071    200000   \n",
       "14791  BAZOV.SHURA@INBOX.RU  47024086717  370000461837001     10000   \n",
       "11843                   NaN  33016133970  230103608823011     20000   \n",
       "\n",
       "      jurisdiction  \n",
       "2601        russia  \n",
       "9092        russia  \n",
       "12719       russia  \n",
       "14791       russia  \n",
       "11843       russia  "
      ]
     },
     "execution_count": 8,
     "metadata": {},
     "output_type": "execute_result"
    }
   ],
   "source": [
    "# Companies pre-processing\n",
    "companies['opf_id'] = companies['opf_id'].apply(REF_DICT['OPF'].get)\n",
    "companies['okved_id'] = companies['okved_id'].apply(REF_DICT['KVED'].get)\n",
    "companies['jurisdiction'] = 'russia'\n",
    "companies[COMPANY_MAPPING.keys()].head()"
   ]
  },
  {
   "cell_type": "code",
   "execution_count": 9,
   "id": "b9a56cdc-f7d4-487b-b515-d3f8b5d56db6",
   "metadata": {},
   "outputs": [],
   "source": [
    "# Persons pre-processing\n",
    "persons['country_code'] = persons['country_code'].apply(REF_DICT['COUNTRY'].get)\n",
    "# Split persons to Individual Enterpreneurs and physical persons\n",
    "people = persons[persons['ogrnip'] == 0]\n",
    "individ_ent = persons[persons['ogrnip'] != 0]"
   ]
  },
  {
   "cell_type": "markdown",
   "id": "d3382a48-5063-4ceb-871c-b46101ff445b",
   "metadata": {},
   "source": [
    "# Generate Entities"
   ]
  },
  {
   "cell_type": "code",
   "execution_count": 10,
   "id": "ffc18fdc-0174-40ec-b8b0-8113c38ddb9b",
   "metadata": {},
   "outputs": [],
   "source": [
    "def create_org(row):\n",
    "    org = Organisation(row)\n",
    "    address = Address(row)\n",
    "    org.set_property('address', address.to_ftm())\n",
    "    return [org.to_ftm(), address.to_ftm()]\n",
    "\n",
    "def create_person(row):\n",
    "    person = Person(row)\n",
    "    return [person.to_ftm()]\n",
    "\n",
    "def create_ie(row):\n",
    "    ie = IndividualEnterpereneur(row)\n",
    "    return [ie.to_ftm()]\n",
    "\n",
    "def create_connection(row, connType=ManagingCompany):\n",
    "    connection = connType(row)\n",
    "    return [connection.to_ftm()]"
   ]
  },
  {
   "cell_type": "code",
   "execution_count": 17,
   "id": "628997bc-299f-4ee9-8193-4e1698baff87",
   "metadata": {},
   "outputs": [],
   "source": [
    "from tqdm import tqdm\n",
    "def generate_enitites(df, entity_func, **kwargs):\n",
    "    entities = []\n",
    "    for i, row in tqdm(df.iterrows(), total=len(df)):\n",
    "        entities += entity_func(row, **kwargs)\n",
    "    return entities"
   ]
  },
  {
   "cell_type": "code",
   "execution_count": 14,
   "id": "ea82adf6-84de-4e2c-912b-6eebebd3dd7c",
   "metadata": {},
   "outputs": [
    {
     "name": "stderr",
     "output_type": "stream",
     "text": [
      "100%|██████████████████████████████████████████████████████████████████████████████████████████████████████████| 19435/19435 [00:56<00:00, 341.14it/s]\n"
     ]
    }
   ],
   "source": [
    "orgs = generate_enitites(companies, create_org)"
   ]
  },
  {
   "cell_type": "code",
   "execution_count": 18,
   "id": "03ae3dfc-1704-41cd-99b8-53ca1215b521",
   "metadata": {},
   "outputs": [
    {
     "name": "stderr",
     "output_type": "stream",
     "text": [
      "100%|████████████████████████████████████████████████████████████████████████████████████████████████████████████| 1025/1025 [00:01<00:00, 790.67it/s]\n"
     ]
    }
   ],
   "source": [
    "ppeople = generate_enitites(people, create_person)"
   ]
  },
  {
   "cell_type": "code",
   "execution_count": 16,
   "id": "f2779c70-aff8-4901-82f9-79fd30334ec7",
   "metadata": {},
   "outputs": [
    {
     "name": "stderr",
     "output_type": "stream",
     "text": [
      "100%|██████████████████████████████████████████████████████████████████████████████████████████████████████████| 23504/23504 [00:24<00:00, 941.27it/s]\n"
     ]
    }
   ],
   "source": [
    "enterpreneurs = generate_enitites(individ_ent, create_ie)"
   ]
  },
  {
   "cell_type": "code",
   "execution_count": 22,
   "id": "0ae2c9e6-f9f8-442f-ab53-24427f113ed8",
   "metadata": {},
   "outputs": [
    {
     "name": "stderr",
     "output_type": "stream",
     "text": [
      "100%|█████████████████████████████████████████████████████████████████████████████████████████████████████████████| 179/179 [00:00<00:00, 2449.38it/s]\n"
     ]
    }
   ],
   "source": [
    "mngrs = generate_enitites(mng, create_connection, connType=ManagingCompany)"
   ]
  },
  {
   "cell_type": "code",
   "execution_count": 29,
   "id": "fcd21de2-e727-4fa1-b797-7cb967a26acc",
   "metadata": {},
   "outputs": [
    {
     "name": "stderr",
     "output_type": "stream",
     "text": [
      "100%|█████████████████████████████████████████████████████████████████████████████████████████████████████████| 27605/27605 [00:09<00:00, 3006.85it/s]\n"
     ]
    }
   ],
   "source": [
    "founders = generate_enitites(founder.astype(int), create_connection, connType=Founder)"
   ]
  },
  {
   "cell_type": "code",
   "execution_count": 32,
   "id": "88483347-8aa2-412e-8786-69aaaf699cf8",
   "metadata": {},
   "outputs": [
    {
     "name": "stderr",
     "output_type": "stream",
     "text": [
      "100%|█████████████████████████████████████████████████████████████████████████████████████████████████████████| 19389/19389 [00:03<00:00, 5466.98it/s]\n"
     ]
    }
   ],
   "source": [
    "chiefs = generate_enitites(org_chief, create_connection, connType=OrgChief)"
   ]
  },
  {
   "cell_type": "code",
   "execution_count": 34,
   "id": "6a6cdc64-d3a0-426f-90ca-7601e09321e3",
   "metadata": {},
   "outputs": [
    {
     "name": "stderr",
     "output_type": "stream",
     "text": [
      "100%|█████████████████████████████████████████████████████████████████████████████████████████████████████████████████| 5/5 [00:00<00:00, 2191.15it/s]\n"
     ]
    }
   ],
   "source": [
    "successions = generate_enitites(predecessor, create_connection, connType=Succession)"
   ]
  },
  {
   "cell_type": "markdown",
   "id": "48e85b13-282e-467e-b9a0-35ab2dda1f6b",
   "metadata": {},
   "source": [
    "# Upload to Aleph"
   ]
  },
  {
   "cell_type": "code",
   "execution_count": 36,
   "id": "222f8971-1ba4-423c-97b9-81618fa67a2e",
   "metadata": {},
   "outputs": [],
   "source": [
    "data = orgs + ppeople + enterpreneurs + mngrs + founders + chiefs + successions"
   ]
  },
  {
   "cell_type": "code",
   "execution_count": null,
   "id": "f516b1f3-674e-413f-83ff-1d7b93f4f2c7",
   "metadata": {},
   "outputs": [],
   "source": [
    "# Set credentials\n",
    "ALEPHHOST = os.environ['ALEPHHOST']\n",
    "APIKEY = os.environ['APIKEY']\n",
    "COLLECTION_ID = \"\""
   ]
  },
  {
   "cell_type": "code",
   "execution_count": null,
   "id": "5762cd62-42af-4f66-841b-0b1184d73efd",
   "metadata": {},
   "outputs": [],
   "source": [
    "from alephclient.api import AlephAPI\n",
    "api = AlephAPI(host=ALEPHHOST, api_key=APIKEY)"
   ]
  },
  {
   "cell_type": "code",
   "execution_count": null,
   "id": "e4754c83-d6af-4ea3-b92f-80fd4abbf8fc",
   "metadata": {},
   "outputs": [],
   "source": [
    "# Format to JSON (Dict)\n",
    "json_ent = [i.to_dict() for i in data]"
   ]
  },
  {
   "cell_type": "code",
   "execution_count": null,
   "id": "6457b516-9e92-44e4-9216-8b5023c0f7c0",
   "metadata": {},
   "outputs": [],
   "source": [
    "api.write_entities(COLLECTION_ID, json_ent)"
   ]
  }
 ],
 "metadata": {
  "kernelspec": {
   "display_name": "Python 3 (ipykernel)",
   "language": "python",
   "name": "python3"
  },
  "language_info": {
   "codemirror_mode": {
    "name": "ipython",
    "version": 3
   },
   "file_extension": ".py",
   "mimetype": "text/x-python",
   "name": "python",
   "nbconvert_exporter": "python",
   "pygments_lexer": "ipython3",
   "version": "3.10.4"
  }
 },
 "nbformat": 4,
 "nbformat_minor": 5
}
